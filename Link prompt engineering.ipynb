{
 "cells": [
  {
   "cell_type": "code",
   "execution_count": 11,
   "id": "dc59f66a-3b22-4679-8864-3794ec5b9ef5",
   "metadata": {},
   "outputs": [],
   "source": [
    "from IPython.display import display, Markdown\n",
    "import os\n",
    "from functools import lru_cache\n",
    "from openai import OpenAI"
   ]
  },
  {
   "cell_type": "code",
   "execution_count": 5,
   "id": "47c52ef0-2459-42a9-8641-5722d0bfd458",
   "metadata": {},
   "outputs": [],
   "source": [
    "MODEL = 'gpt-3.5-turbo'"
   ]
  },
  {
   "cell_type": "code",
   "execution_count": 9,
   "id": "2878c7b1-cdb7-4296-817a-dbcced762d9d",
   "metadata": {},
   "outputs": [],
   "source": [
    "client = OpenAI(\n",
    "    api_key=os.environ.get(\"OPENAI_API_KEY\"),\n",
    ")"
   ]
  },
  {
   "cell_type": "markdown",
   "id": "70cf7704-7ac9-4579-97dd-71c783833551",
   "metadata": {},
   "source": [
    "# Question"
   ]
  },
  {
   "cell_type": "code",
   "execution_count": 31,
   "id": "dac0ea18-f7ba-4854-8aaf-e3f09bd36b64",
   "metadata": {},
   "outputs": [],
   "source": [
    "QUESTION = 'Why is the sky blue?'"
   ]
  },
  {
   "cell_type": "markdown",
   "id": "5d92eb0f-eb9a-4d28-b44f-c6af41dd6c7e",
   "metadata": {},
   "source": [
    "# Context"
   ]
  },
  {
   "cell_type": "code",
   "execution_count": 75,
   "id": "dd7cbb51-8116-4517-a214-c841dcb97cf4",
   "metadata": {},
   "outputs": [],
   "source": [
    "DOCS = [\n",
    "    (\n",
    "        'Sunlight reaches Earth\\'s atmosphere and is scattered in all directions by all the gases and particles in the air. Blue light is scattered more than the other colors because it travels as shorter, smaller waves. This is why we see a blue sky most of the time.',\n",
    "        'https://spaceplace.nasa.gov/blue-sky/en/'\n",
    "    ),\n",
    "    (\n",
    "        '''Altitudes, landscapes and climates change dramatically as you move across the globe, but one factor remains nearly ubiquitous. All of Earth\\'s diversity is blanketed under a blue sky. But why is the sky blue? It\\'s not a reflection of Earth\\'s oceans. The real explanation requires a bit of particle physics.\n",
    "We see blue above us because of how light from the sun interacts with Earth\\'s atmosphere. The visible light spectrum contains a variety of colors, ranging from red light to violet. When all of the colors are mixed, the light appears white, Marc Chenard, a meteorologist at the National Weather Service, told Live Science. But once the white light traveling from the sun reaches Earth, some of the colors begin to interact with molecules and small particles in the atmosphere, he said.\n",
    "Each color in the visible light spectrum has a different wavelength. Red and orange light waves, for instance, have longer wavelengths, while blue and violet light have much shorter wavelengths. It\\'s the shorter wavelengths of light that are more likely to be scattered — or absorbed and re-emitted in a different direction — by the air and gas molecules in Earth\\'s atmosphere, Chenard said. The molecules in the atmosphere, largely nitrogen and oxygen, scatter the blue and violet light in every direction through a phenomenon called Rayleigh scattering. That\\'s what makes the sky blue.''',\n",
    "        'https://spaceplace.nasa.gov/blue-sky/en/'\n",
    "    ),\n",
    "    (\n",
    "        '''As white light passes through our atmosphere, tiny air molecules cause it to ‘scatter’.\n",
    "The scattering caused by these tiny air molecules (known as Rayleigh scattering) increases as the wavelength of light decreases.\n",
    "Violet and blue light have the shortest wavelengths and red light has the longest.\n",
    "Therefore, blue light is scattered more than red light and the sky appears blue during the day.\n",
    "When the Sun is low in the sky during sunrise and sunset, the light has to travel further through the Earth’s atmosphere.\n",
    "We don’t see the blue light because it gets scattered away, but the red light isn’t scattered very much – so the sky appears red.''',\n",
    "        'https://www.rmg.co.uk/stories/topics/why-sky-blue'\n",
    "    ),\n",
    "]\n",
    "CONTEXT = '\\n'.join([f'Context:\\n\\ncontent: {c}\\n\\nsource: {s}\\n\\n' for c, s in DOCS])"
   ]
  },
  {
   "cell_type": "markdown",
   "id": "da4cdf46-3262-41db-abfb-8148bfd76f79",
   "metadata": {},
   "source": [
    "# Prompt"
   ]
  },
  {
   "cell_type": "code",
   "execution_count": 34,
   "id": "941e1d23-f23a-4b8f-ae1c-2add02a41714",
   "metadata": {},
   "outputs": [],
   "source": [
    "def prompt_from_instructions(start, end):\n",
    "    return f'''{start}\n",
    "\n",
    "{CONTEXT}\n",
    "\n",
    "{end}'''"
   ]
  },
  {
   "cell_type": "code",
   "execution_count": 8,
   "id": "ad2376a5-aea7-42e7-85f6-ef42a6c37ad9",
   "metadata": {},
   "outputs": [],
   "source": [
    "@lru_cache(maxsize=None)\n",
    "def send_prompt(prompt):\n",
    "    completion = client.chat.completions.create(\n",
    "        messages=[\n",
    "            {\n",
    "                \"role\": \"user\",\n",
    "                \"content\": prompt,\n",
    "            }\n",
    "        ],\n",
    "        model=MODEL,\n",
    "    )\n",
    "    return completion.choices[0].message.content.strip()"
   ]
  },
  {
   "cell_type": "markdown",
   "id": "f62bfc75-bae4-4855-bb94-cb857c3a6e22",
   "metadata": {},
   "source": [
    "# Render"
   ]
  },
  {
   "cell_type": "code",
   "execution_count": 66,
   "id": "66be9dc9-2ab0-4c0c-a4a5-49cee6d6b43b",
   "metadata": {},
   "outputs": [],
   "source": [
    "def pretty_query(prompt):\n",
    "    print(prompt)\n",
    "    response = send_prompt(prompt)\n",
    "    display(Markdown(response))"
   ]
  },
  {
   "cell_type": "markdown",
   "id": "5931118c-4998-4b87-9dfc-4d9ff5167696",
   "metadata": {},
   "source": [
    "# Instructions"
   ]
  },
  {
   "cell_type": "markdown",
   "id": "ab713110-46f7-4c97-8706-1bc9217d2d1d",
   "metadata": {},
   "source": [
    "## Attempt #1"
   ]
  },
  {
   "cell_type": "code",
   "execution_count": 68,
   "id": "aa1f6805-4f15-4acb-9440-d2ea37160704",
   "metadata": {},
   "outputs": [
    {
     "name": "stdout",
     "output_type": "stream",
     "text": [
      "Use the following pieces of context to answer the question at the end. Each contexts have it's source.\n",
      "\n",
      "Context:\n",
      "\n",
      "content: Sunlight reaches Earth's atmosphere and is scattered in all directions by all the gases and particles in the air. Blue light is scattered more than the other colors because it travels as shorter, smaller waves. This is why we see a blue sky most of the time.\n",
      "\n",
      "source: https://spaceplace.nasa.gov/blue-sky/en/\n",
      "\n",
      "\n",
      "Context:\n",
      "\n",
      "content: Altitudes, landscapes and climates change dramatically as you move across the globe, but one factor remains nearly ubiquitous. All of Earth's diversity is blanketed under a blue sky. But why is the sky blue? It's not a reflection of Earth's oceans. The real explanation requires a bit of particle physics.\n",
      "We see blue above us because of how light from the sun interacts with Earth's atmosphere. The visible light spectrum contains a variety of colors, ranging from red light to violet. When all of the colors are mixed, the light appears white, Marc Chenard, a meteorologist at the National Weather Service, told Live Science. But once the white light traveling from the sun reaches Earth, some of the colors begin to interact with molecules and small particles in the atmosphere, he said.\n",
      "Each color in the visible light spectrum has a different wavelength. Red and orange light waves, for instance, have longer wavelengths, while blue and violet light have much shorter wavelengths. It's the shorter wavelengths of light that are more likely to be scattered — or absorbed and re-emitted in a different direction — by the air and gas molecules in Earth's atmosphere, Chenard said. The molecules in the atmosphere, largely nitrogen and oxygen, scatter the blue and violet light in every direction through a phenomenon called Rayleigh scattering. That's what makes the sky blue.\n",
      "\n",
      "source: https://spaceplace.nasa.gov/blue-sky/en/\n",
      "\n",
      "\n",
      "Context:\n",
      "\n",
      "content: As white light passes through our atmosphere, tiny air molecules cause it to ‘scatter’.\n",
      "The scattering caused by these tiny air molecules (known as Rayleigh scattering) increases as the wavelength of light decreases.\n",
      "Violet and blue light have the shortest wavelengths and red light has the longest.\n",
      "Therefore, blue light is scattered more than red light and the sky appears blue during the day.\n",
      "When the Sun is low in the sky during sunrise and sunset, the light has to travel further through the Earth’s atmosphere.\n",
      "We don’t see the blue light because it gets scattered away, but the red light isn’t scattered very much – so the sky appears red.\n",
      "\n",
      "source: https://www.rmg.co.uk/stories/topics/why-sky-blue\n",
      "\n",
      "\n",
      "\n",
      "Question: Why is the sky blue?\n",
      "Helpful Answer:\n"
     ]
    },
    {
     "data": {
      "text/markdown": [
       "The sky appears blue because of a phenomenon called Rayleigh scattering. When sunlight passes through Earth's atmosphere, the shorter wavelengths of blue and violet light are scattered in all directions by air molecules, particularly nitrogen and oxygen. This scattering is what gives the sky its blue color."
      ],
      "text/plain": [
       "<IPython.core.display.Markdown object>"
      ]
     },
     "metadata": {},
     "output_type": "display_data"
    }
   ],
   "source": [
    "pretty_query(\n",
    "    prompt_from_instructions(\n",
    "        '''Use the following pieces of context to answer the question at the end. Each contexts have it's source.''',\n",
    "        f'''Question: {QUESTION}\n",
    "Helpful Answer:'''\n",
    "    )\n",
    ")"
   ]
  },
  {
   "cell_type": "markdown",
   "id": "92e121ae-fda8-48e3-8f9f-485dc3030631",
   "metadata": {},
   "source": [
    "## Attempt #2"
   ]
  },
  {
   "cell_type": "code",
   "execution_count": 69,
   "id": "62ec07c4-e460-41a1-a02c-4814cb318ae2",
   "metadata": {},
   "outputs": [
    {
     "name": "stdout",
     "output_type": "stream",
     "text": [
      "Use the following pieces of context to answer the question at the end. Each contexts have it's source.\n",
      "State the source for your answer\n",
      "\n",
      "Context:\n",
      "\n",
      "content: Sunlight reaches Earth's atmosphere and is scattered in all directions by all the gases and particles in the air. Blue light is scattered more than the other colors because it travels as shorter, smaller waves. This is why we see a blue sky most of the time.\n",
      "\n",
      "source: https://spaceplace.nasa.gov/blue-sky/en/\n",
      "\n",
      "\n",
      "Context:\n",
      "\n",
      "content: Altitudes, landscapes and climates change dramatically as you move across the globe, but one factor remains nearly ubiquitous. All of Earth's diversity is blanketed under a blue sky. But why is the sky blue? It's not a reflection of Earth's oceans. The real explanation requires a bit of particle physics.\n",
      "We see blue above us because of how light from the sun interacts with Earth's atmosphere. The visible light spectrum contains a variety of colors, ranging from red light to violet. When all of the colors are mixed, the light appears white, Marc Chenard, a meteorologist at the National Weather Service, told Live Science. But once the white light traveling from the sun reaches Earth, some of the colors begin to interact with molecules and small particles in the atmosphere, he said.\n",
      "Each color in the visible light spectrum has a different wavelength. Red and orange light waves, for instance, have longer wavelengths, while blue and violet light have much shorter wavelengths. It's the shorter wavelengths of light that are more likely to be scattered — or absorbed and re-emitted in a different direction — by the air and gas molecules in Earth's atmosphere, Chenard said. The molecules in the atmosphere, largely nitrogen and oxygen, scatter the blue and violet light in every direction through a phenomenon called Rayleigh scattering. That's what makes the sky blue.\n",
      "\n",
      "source: https://spaceplace.nasa.gov/blue-sky/en/\n",
      "\n",
      "\n",
      "Context:\n",
      "\n",
      "content: As white light passes through our atmosphere, tiny air molecules cause it to ‘scatter’.\n",
      "The scattering caused by these tiny air molecules (known as Rayleigh scattering) increases as the wavelength of light decreases.\n",
      "Violet and blue light have the shortest wavelengths and red light has the longest.\n",
      "Therefore, blue light is scattered more than red light and the sky appears blue during the day.\n",
      "When the Sun is low in the sky during sunrise and sunset, the light has to travel further through the Earth’s atmosphere.\n",
      "We don’t see the blue light because it gets scattered away, but the red light isn’t scattered very much – so the sky appears red.\n",
      "\n",
      "source: https://www.rmg.co.uk/stories/topics/why-sky-blue\n",
      "\n",
      "\n",
      "\n",
      "Question: Why is the sky blue?\n",
      "Helpful Answer:\n"
     ]
    },
    {
     "data": {
      "text/markdown": [
       "The sky appears blue because of a phenomenon called Rayleigh scattering, where the shorter wavelengths of light, such as blue and violet, are scattered more by the air and gas molecules in Earth's atmosphere compared to longer wavelengths like red light. This scattering of blue and violet light in all directions is what makes the sky blue. \n",
       "\n",
       "Sources:\n",
       "- https://spaceplace.nasa.gov/blue-sky/en/\n",
       "- https://www.rmg.co.uk/stories/topics/why-sky-blue"
      ],
      "text/plain": [
       "<IPython.core.display.Markdown object>"
      ]
     },
     "metadata": {},
     "output_type": "display_data"
    }
   ],
   "source": [
    "pretty_query(\n",
    "    prompt_from_instructions(\n",
    "        '''Use the following pieces of context to answer the question at the end. Each contexts have it's source.\n",
    "State the source for your answer''',\n",
    "        f'''Question: {QUESTION}\n",
    "Helpful Answer:'''\n",
    "    )\n",
    ")"
   ]
  },
  {
   "cell_type": "markdown",
   "id": "8843e3d8-da0f-4448-82dd-8a69cf783b29",
   "metadata": {},
   "source": [
    "## Attempt #3"
   ]
  },
  {
   "cell_type": "code",
   "execution_count": 70,
   "id": "0cb24575-722b-4f5e-a544-121ae4ca062b",
   "metadata": {},
   "outputs": [
    {
     "name": "stdout",
     "output_type": "stream",
     "text": [
      "Use the following pieces of context to answer the question at the end. Each contexts have it's source.\n",
      "For each statement in the answer, state it's source\n",
      "\n",
      "Context:\n",
      "\n",
      "content: Sunlight reaches Earth's atmosphere and is scattered in all directions by all the gases and particles in the air. Blue light is scattered more than the other colors because it travels as shorter, smaller waves. This is why we see a blue sky most of the time.\n",
      "\n",
      "source: https://spaceplace.nasa.gov/blue-sky/en/\n",
      "\n",
      "\n",
      "Context:\n",
      "\n",
      "content: Altitudes, landscapes and climates change dramatically as you move across the globe, but one factor remains nearly ubiquitous. All of Earth's diversity is blanketed under a blue sky. But why is the sky blue? It's not a reflection of Earth's oceans. The real explanation requires a bit of particle physics.\n",
      "We see blue above us because of how light from the sun interacts with Earth's atmosphere. The visible light spectrum contains a variety of colors, ranging from red light to violet. When all of the colors are mixed, the light appears white, Marc Chenard, a meteorologist at the National Weather Service, told Live Science. But once the white light traveling from the sun reaches Earth, some of the colors begin to interact with molecules and small particles in the atmosphere, he said.\n",
      "Each color in the visible light spectrum has a different wavelength. Red and orange light waves, for instance, have longer wavelengths, while blue and violet light have much shorter wavelengths. It's the shorter wavelengths of light that are more likely to be scattered — or absorbed and re-emitted in a different direction — by the air and gas molecules in Earth's atmosphere, Chenard said. The molecules in the atmosphere, largely nitrogen and oxygen, scatter the blue and violet light in every direction through a phenomenon called Rayleigh scattering. That's what makes the sky blue.\n",
      "\n",
      "source: https://spaceplace.nasa.gov/blue-sky/en/\n",
      "\n",
      "\n",
      "Context:\n",
      "\n",
      "content: As white light passes through our atmosphere, tiny air molecules cause it to ‘scatter’.\n",
      "The scattering caused by these tiny air molecules (known as Rayleigh scattering) increases as the wavelength of light decreases.\n",
      "Violet and blue light have the shortest wavelengths and red light has the longest.\n",
      "Therefore, blue light is scattered more than red light and the sky appears blue during the day.\n",
      "When the Sun is low in the sky during sunrise and sunset, the light has to travel further through the Earth’s atmosphere.\n",
      "We don’t see the blue light because it gets scattered away, but the red light isn’t scattered very much – so the sky appears red.\n",
      "\n",
      "source: https://www.rmg.co.uk/stories/topics/why-sky-blue\n",
      "\n",
      "\n",
      "\n",
      "Question: Why is the sky blue?\n",
      "Helpful Answer:\n"
     ]
    },
    {
     "data": {
      "text/markdown": [
       "1. The sky appears blue because of Rayleigh scattering, which is when the shorter wavelengths of blue and violet light are more likely to be scattered by the air and gas molecules in Earth's atmosphere. (source: https://spaceplace.nasa.gov/blue-sky/en/)\n",
       "2. Blue light is scattered more than the other colors because it travels as shorter, smaller waves, as a result of Rayleigh scattering. This phenomenon is what makes the sky blue. (source: https://www.rmg.co.uk/stories/topics/why-sky-blue)"
      ],
      "text/plain": [
       "<IPython.core.display.Markdown object>"
      ]
     },
     "metadata": {},
     "output_type": "display_data"
    }
   ],
   "source": [
    "pretty_query(\n",
    "    prompt_from_instructions(\n",
    "        '''Use the following pieces of context to answer the question at the end. Each contexts have it's source.\n",
    "For each statement in the answer, state it's source''',\n",
    "        f'''Question: {QUESTION}\n",
    "Helpful Answer:'''\n",
    "    )\n",
    ")"
   ]
  },
  {
   "cell_type": "markdown",
   "id": "cbd3fc1b-ae85-480c-b573-e07af9486c95",
   "metadata": {},
   "source": [
    "## Attempt #4"
   ]
  },
  {
   "cell_type": "code",
   "execution_count": 71,
   "id": "4dffe511-f208-4652-8318-641dc07850cf",
   "metadata": {},
   "outputs": [
    {
     "name": "stdout",
     "output_type": "stream",
     "text": [
      "Use the following pieces of context to answer the question at the end. Each contexts have it's source.\n",
      "For each statement in the answer, state it's source\n",
      "\n",
      "Context:\n",
      "\n",
      "content: Sunlight reaches Earth's atmosphere and is scattered in all directions by all the gases and particles in the air. Blue light is scattered more than the other colors because it travels as shorter, smaller waves. This is why we see a blue sky most of the time.\n",
      "\n",
      "source: https://spaceplace.nasa.gov/blue-sky/en/\n",
      "\n",
      "\n",
      "Context:\n",
      "\n",
      "content: Altitudes, landscapes and climates change dramatically as you move across the globe, but one factor remains nearly ubiquitous. All of Earth's diversity is blanketed under a blue sky. But why is the sky blue? It's not a reflection of Earth's oceans. The real explanation requires a bit of particle physics.\n",
      "We see blue above us because of how light from the sun interacts with Earth's atmosphere. The visible light spectrum contains a variety of colors, ranging from red light to violet. When all of the colors are mixed, the light appears white, Marc Chenard, a meteorologist at the National Weather Service, told Live Science. But once the white light traveling from the sun reaches Earth, some of the colors begin to interact with molecules and small particles in the atmosphere, he said.\n",
      "Each color in the visible light spectrum has a different wavelength. Red and orange light waves, for instance, have longer wavelengths, while blue and violet light have much shorter wavelengths. It's the shorter wavelengths of light that are more likely to be scattered — or absorbed and re-emitted in a different direction — by the air and gas molecules in Earth's atmosphere, Chenard said. The molecules in the atmosphere, largely nitrogen and oxygen, scatter the blue and violet light in every direction through a phenomenon called Rayleigh scattering. That's what makes the sky blue.\n",
      "\n",
      "source: https://spaceplace.nasa.gov/blue-sky/en/\n",
      "\n",
      "\n",
      "Context:\n",
      "\n",
      "content: As white light passes through our atmosphere, tiny air molecules cause it to ‘scatter’.\n",
      "The scattering caused by these tiny air molecules (known as Rayleigh scattering) increases as the wavelength of light decreases.\n",
      "Violet and blue light have the shortest wavelengths and red light has the longest.\n",
      "Therefore, blue light is scattered more than red light and the sky appears blue during the day.\n",
      "When the Sun is low in the sky during sunrise and sunset, the light has to travel further through the Earth’s atmosphere.\n",
      "We don’t see the blue light because it gets scattered away, but the red light isn’t scattered very much – so the sky appears red.\n",
      "\n",
      "source: https://www.rmg.co.uk/stories/topics/why-sky-blue\n",
      "\n",
      "\n",
      "\n",
      "Question: Why is the sky blue?\n",
      "Helpful Answer in Markdown format:\n"
     ]
    },
    {
     "data": {
      "text/markdown": [
       "The sky appears blue because of a phenomenon called Rayleigh scattering. This occurs when sunlight reaches Earth's atmosphere and is scattered in all directions by gases and particles in the air. Blue light, which has shorter wavelengths, is scattered more than other colors, such as red light. This scattering of blue light by air molecules like nitrogen and oxygen is what makes the sky appear blue during the day.\n",
       "\n",
       "Sources:\n",
       "- https://spaceplace.nasa.gov/blue-sky/en/\n",
       "- https://www.rmg.co.uk/stories/topics/why-sky-blue"
      ],
      "text/plain": [
       "<IPython.core.display.Markdown object>"
      ]
     },
     "metadata": {},
     "output_type": "display_data"
    }
   ],
   "source": [
    "pretty_query(\n",
    "    prompt_from_instructions(\n",
    "        '''Use the following pieces of context to answer the question at the end. Each contexts have it's source.\n",
    "For each statement in the answer, state it's source''',\n",
    "        f'''Question: {QUESTION}\n",
    "Helpful Answer in Markdown format:'''\n",
    "    )\n",
    ")"
   ]
  },
  {
   "cell_type": "markdown",
   "id": "896a87a0-8a0c-44b4-9efe-4763316a3259",
   "metadata": {},
   "source": [
    "## Attempt #5"
   ]
  },
  {
   "cell_type": "code",
   "execution_count": 72,
   "id": "e4085ee3-9b9d-440c-8f47-8849f1f611c6",
   "metadata": {},
   "outputs": [
    {
     "name": "stdout",
     "output_type": "stream",
     "text": [
      "Use the following pieces of context to answer the question at the end. Each contexts have it's source.\n",
      "The entire body of the answer itself must be links to the sources\n",
      "\n",
      "Context:\n",
      "\n",
      "content: Sunlight reaches Earth's atmosphere and is scattered in all directions by all the gases and particles in the air. Blue light is scattered more than the other colors because it travels as shorter, smaller waves. This is why we see a blue sky most of the time.\n",
      "\n",
      "source: https://spaceplace.nasa.gov/blue-sky/en/\n",
      "\n",
      "\n",
      "Context:\n",
      "\n",
      "content: Altitudes, landscapes and climates change dramatically as you move across the globe, but one factor remains nearly ubiquitous. All of Earth's diversity is blanketed under a blue sky. But why is the sky blue? It's not a reflection of Earth's oceans. The real explanation requires a bit of particle physics.\n",
      "We see blue above us because of how light from the sun interacts with Earth's atmosphere. The visible light spectrum contains a variety of colors, ranging from red light to violet. When all of the colors are mixed, the light appears white, Marc Chenard, a meteorologist at the National Weather Service, told Live Science. But once the white light traveling from the sun reaches Earth, some of the colors begin to interact with molecules and small particles in the atmosphere, he said.\n",
      "Each color in the visible light spectrum has a different wavelength. Red and orange light waves, for instance, have longer wavelengths, while blue and violet light have much shorter wavelengths. It's the shorter wavelengths of light that are more likely to be scattered — or absorbed and re-emitted in a different direction — by the air and gas molecules in Earth's atmosphere, Chenard said. The molecules in the atmosphere, largely nitrogen and oxygen, scatter the blue and violet light in every direction through a phenomenon called Rayleigh scattering. That's what makes the sky blue.\n",
      "\n",
      "source: https://spaceplace.nasa.gov/blue-sky/en/\n",
      "\n",
      "\n",
      "Context:\n",
      "\n",
      "content: As white light passes through our atmosphere, tiny air molecules cause it to ‘scatter’.\n",
      "The scattering caused by these tiny air molecules (known as Rayleigh scattering) increases as the wavelength of light decreases.\n",
      "Violet and blue light have the shortest wavelengths and red light has the longest.\n",
      "Therefore, blue light is scattered more than red light and the sky appears blue during the day.\n",
      "When the Sun is low in the sky during sunrise and sunset, the light has to travel further through the Earth’s atmosphere.\n",
      "We don’t see the blue light because it gets scattered away, but the red light isn’t scattered very much – so the sky appears red.\n",
      "\n",
      "source: https://www.rmg.co.uk/stories/topics/why-sky-blue\n",
      "\n",
      "\n",
      "\n",
      "Question: Why is the sky blue?\n",
      "Helpful Answer in markdown format:\n"
     ]
    },
    {
     "data": {
      "text/markdown": [
       "[The sky is blue](https://spaceplace.nasa.gov/blue-sky/en/) because of the way sunlight interacts with Earth's atmosphere through a phenomenon called Rayleigh scattering. Shorter wavelengths of light, like blue and violet, are scattered more by air molecules in the atmosphere, causing the sky to appear blue during the day. [Blue light is scattered away](https://www.rmg.co.uk/stories/topics/why-sky-blue) while red light isn't scattered as much, which is why the sky appears red during sunrise and sunset."
      ],
      "text/plain": [
       "<IPython.core.display.Markdown object>"
      ]
     },
     "metadata": {},
     "output_type": "display_data"
    }
   ],
   "source": [
    "pretty_query(\n",
    "    prompt_from_instructions(\n",
    "        '''Use the following pieces of context to answer the question at the end. Each contexts have it's source.\n",
    "The entire body of the answer itself must be links to the sources''',\n",
    "        f'''Question: {QUESTION}\n",
    "Helpful Answer in markdown format:'''\n",
    "    )\n",
    ")"
   ]
  },
  {
   "cell_type": "markdown",
   "id": "0f9094b6-2da7-48d4-815d-2781e576a6da",
   "metadata": {},
   "source": [
    "## Attempt #6"
   ]
  },
  {
   "cell_type": "code",
   "execution_count": 73,
   "id": "8fb548d1-1453-4d4f-9b1e-bfea03dec0fc",
   "metadata": {},
   "outputs": [
    {
     "name": "stdout",
     "output_type": "stream",
     "text": [
      "Use the following pieces of context to answer the question at the end. Each contexts have it's source.\n",
      "The entire body of the answer itself must be links to the sources\n",
      "\n",
      "Context:\n",
      "\n",
      "content: Sunlight reaches Earth's atmosphere and is scattered in all directions by all the gases and particles in the air. Blue light is scattered more than the other colors because it travels as shorter, smaller waves. This is why we see a blue sky most of the time.\n",
      "\n",
      "source: https://spaceplace.nasa.gov/blue-sky/en/\n",
      "\n",
      "\n",
      "Context:\n",
      "\n",
      "content: Altitudes, landscapes and climates change dramatically as you move across the globe, but one factor remains nearly ubiquitous. All of Earth's diversity is blanketed under a blue sky. But why is the sky blue? It's not a reflection of Earth's oceans. The real explanation requires a bit of particle physics.\n",
      "We see blue above us because of how light from the sun interacts with Earth's atmosphere. The visible light spectrum contains a variety of colors, ranging from red light to violet. When all of the colors are mixed, the light appears white, Marc Chenard, a meteorologist at the National Weather Service, told Live Science. But once the white light traveling from the sun reaches Earth, some of the colors begin to interact with molecules and small particles in the atmosphere, he said.\n",
      "Each color in the visible light spectrum has a different wavelength. Red and orange light waves, for instance, have longer wavelengths, while blue and violet light have much shorter wavelengths. It's the shorter wavelengths of light that are more likely to be scattered — or absorbed and re-emitted in a different direction — by the air and gas molecules in Earth's atmosphere, Chenard said. The molecules in the atmosphere, largely nitrogen and oxygen, scatter the blue and violet light in every direction through a phenomenon called Rayleigh scattering. That's what makes the sky blue.\n",
      "\n",
      "source: https://spaceplace.nasa.gov/blue-sky/en/\n",
      "\n",
      "\n",
      "Context:\n",
      "\n",
      "content: As white light passes through our atmosphere, tiny air molecules cause it to ‘scatter’.\n",
      "The scattering caused by these tiny air molecules (known as Rayleigh scattering) increases as the wavelength of light decreases.\n",
      "Violet and blue light have the shortest wavelengths and red light has the longest.\n",
      "Therefore, blue light is scattered more than red light and the sky appears blue during the day.\n",
      "When the Sun is low in the sky during sunrise and sunset, the light has to travel further through the Earth’s atmosphere.\n",
      "We don’t see the blue light because it gets scattered away, but the red light isn’t scattered very much – so the sky appears red.\n",
      "\n",
      "source: https://www.rmg.co.uk/stories/topics/why-sky-blue\n",
      "\n",
      "\n",
      "\n",
      "Question: Why is the sky blue?\n",
      "Helpful Answer:\n"
     ]
    },
    {
     "data": {
      "text/markdown": [
       "The sky appears blue because of a phenomenon called Rayleigh scattering, where the shorter wavelengths of light (such as blue and violet) are more likely to be scattered by the air molecules in Earth's atmosphere compared to longer wavelengths (such as red). This scattering causes the blue light to be dispersed in all directions, creating the blue appearance of the sky. [source](https://spaceplace.nasa.gov/blue-sky/en/) [source](https://www.rmg.co.uk/stories/topics/why-sky-blue)"
      ],
      "text/plain": [
       "<IPython.core.display.Markdown object>"
      ]
     },
     "metadata": {},
     "output_type": "display_data"
    }
   ],
   "source": [
    "pretty_query(\n",
    "    prompt_from_instructions(\n",
    "        '''Use the following pieces of context to answer the question at the end. Each contexts have it's source.\n",
    "The entire body of the answer itself must be links to the sources''',\n",
    "        f'''Question: {QUESTION}\n",
    "Helpful Answer:'''\n",
    "    )\n",
    ")"
   ]
  },
  {
   "cell_type": "markdown",
   "id": "b8bdfb99-eacd-48a0-8ae2-efe5b5b63d93",
   "metadata": {},
   "source": [
    "## Attempt #7"
   ]
  },
  {
   "cell_type": "code",
   "execution_count": 65,
   "id": "4f2541b3-4d0d-4995-8482-bdd9b103166b",
   "metadata": {},
   "outputs": [
    {
     "name": "stdout",
     "output_type": "stream",
     "text": [
      "Use the following pieces of context to answer the question at the end. Each contexts have it's source.\n",
      "The entire body of the answer itself must be links to the sources\n",
      "\n",
      "Context:\n",
      "\n",
      "content: Sunlight reaches Earth's atmosphere and is scattered in all directions by all the gases and particles in the air. Blue light is scattered more than the other colors because it travels as shorter, smaller waves. This is why we see a blue sky most of the time.\n",
      "\n",
      "source: https://spaceplace.nasa.gov/blue-sky/en/\n",
      "\n",
      "\n",
      "Context:\n",
      "\n",
      "content: Altitudes, landscapes and climates change dramatically as you move across the globe, but one factor remains nearly ubiquitous. All of Earth's diversity is blanketed under a blue sky. But why is the sky blue? It's not a reflection of Earth's oceans. The real explanation requires a bit of particle physics.\n",
      "We see blue above us because of how light from the sun interacts with Earth's atmosphere. The visible light spectrum contains a variety of colors, ranging from red light to violet. When all of the colors are mixed, the light appears white, Marc Chenard, a meteorologist at the National Weather Service, told Live Science. But once the white light traveling from the sun reaches Earth, some of the colors begin to interact with molecules and small particles in the atmosphere, he said.\n",
      "Each color in the visible light spectrum has a different wavelength. Red and orange light waves, for instance, have longer wavelengths, while blue and violet light have much shorter wavelengths. It's the shorter wavelengths of light that are more likely to be scattered — or absorbed and re-emitted in a different direction — by the air and gas molecules in Earth's atmosphere, Chenard said. The molecules in the atmosphere, largely nitrogen and oxygen, scatter the blue and violet light in every direction through a phenomenon called Rayleigh scattering. That's what makes the sky blue.\n",
      "\n",
      "source: https://spaceplace.nasa.gov/blue-sky/en/\n",
      "\n",
      "\n",
      "Context:\n",
      "\n",
      "content: As white light passes through our atmosphere, tiny air molecules cause it to ‘scatter’.\n",
      "The scattering caused by these tiny air molecules (known as Rayleigh scattering) increases as the wavelength of light decreases.\n",
      "Violet and blue light have the shortest wavelengths and red light has the longest.\n",
      "Therefore, blue light is scattered more than red light and the sky appears blue during the day.\n",
      "When the Sun is low in the sky during sunrise and sunset, the light has to travel further through the Earth’s atmosphere.\n",
      "We don’t see the blue light because it gets scattered away, but the red light isn’t scattered very much – so the sky appears red.\n",
      "\n",
      "source: https://www.rmg.co.uk/stories/topics/why-sky-blue\n",
      "\n",
      "\n",
      "\n",
      "Question: Why is the sky blue?\n",
      "Helpful Answer formatted as markdown with titles, lists and links where appropriate:\n"
     ]
    },
    {
     "data": {
      "text/markdown": [
       "# Why is the sky blue?\n",
       "\n",
       "1. [NASA Space Place](https://spaceplace.nasa.gov/blue-sky/en/): According to NASA Space Place, sunlight reaches Earth's atmosphere and is scattered in all directions by all the gases and particles in the air. Blue light is scattered more than other colors because it travels as shorter, smaller waves, which is why we see a blue sky most of the time.\n",
       "\n",
       "2. [Live Science via NASA Space Place](https://spaceplace.nasa.gov/blue-sky/en/): Live Science, as reported in collaboration with NASA Space Place, explains that the interaction of sunlight with Earth's atmosphere causes blue light to scatter in every direction due to the shorter wavelengths of light being more likely to be scattered by air and gas molecules, particularly nitrogen and oxygen, through a phenomenon called Rayleigh scattering.\n",
       "\n",
       "3. [Royal Observatory Greenwich](https://www.rmg.co.uk/stories/topics/why-sky-blue): The Royal Observatory Greenwich adds that as white light passes through Earth's atmosphere, tiny air molecules cause it to scatter. This scattering increases as the wavelength of light decreases, with blue light having shorter wavelengths than red light. Therefore, blue light is scattered more than red light, making the sky appear blue during the day."
      ],
      "text/plain": [
       "<IPython.core.display.Markdown object>"
      ]
     },
     "metadata": {},
     "output_type": "display_data"
    }
   ],
   "source": [
    "prompt = prompt_from_instructions(\n",
    "        '''Use the following pieces of context to answer the question at the end. Each contexts have it's source.\n",
    "The entire body of the answer itself must be links to the sources''',\n",
    "        f'''Question: {QUESTION}\n",
    "Helpful Answer formatted as markdown with titles, lists and links where appropriate:'''\n",
    ")\n",
    "print(prompt)\n",
    "pretty_query(prompt)"
   ]
  },
  {
   "cell_type": "code",
   "execution_count": null,
   "id": "40f2d2cb-aab7-4bdf-919f-b5b8d838a088",
   "metadata": {},
   "outputs": [],
   "source": []
  }
 ],
 "metadata": {
  "kernelspec": {
   "display_name": "Python 3 (ipykernel)",
   "language": "python",
   "name": "python3"
  },
  "language_info": {
   "codemirror_mode": {
    "name": "ipython",
    "version": 3
   },
   "file_extension": ".py",
   "mimetype": "text/x-python",
   "name": "python",
   "nbconvert_exporter": "python",
   "pygments_lexer": "ipython3",
   "version": "3.11.5"
  }
 },
 "nbformat": 4,
 "nbformat_minor": 5
}
